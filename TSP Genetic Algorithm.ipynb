{
 "cells": [
  {
   "attachments": {},
   "cell_type": "markdown",
   "metadata": {},
   "source": [
    "# Import Libraries"
   ]
  },
  {
   "cell_type": "code",
   "execution_count": 97,
   "metadata": {},
   "outputs": [],
   "source": [
    "# QT backend\n",
    "%matplotlib qt\n",
    "\n",
    "import numpy as np\n",
    "import pandas as pd \n",
    "import matplotlib.pyplot as plt\n",
    "import plotly.express as px\n",
    "import copy\n",
    "\n",
    "# Toggle fullscreen mode for all plots\n",
    "plt.rcParams['figure.figsize'] = [12, 8]"
   ]
  },
  {
   "attachments": {},
   "cell_type": "markdown",
   "metadata": {},
   "source": [
    "# Read Data"
   ]
  },
  {
   "cell_type": "code",
   "execution_count": 98,
   "metadata": {},
   "outputs": [
    {
     "data": {
      "text/html": [
       "<div>\n",
       "<style scoped>\n",
       "    .dataframe tbody tr th:only-of-type {\n",
       "        vertical-align: middle;\n",
       "    }\n",
       "\n",
       "    .dataframe tbody tr th {\n",
       "        vertical-align: top;\n",
       "    }\n",
       "\n",
       "    .dataframe thead th {\n",
       "        text-align: right;\n",
       "    }\n",
       "</style>\n",
       "<table border=\"1\" class=\"dataframe\">\n",
       "  <thead>\n",
       "    <tr style=\"text-align: right;\">\n",
       "      <th></th>\n",
       "      <th>x</th>\n",
       "      <th>y</th>\n",
       "      <th>City</th>\n",
       "    </tr>\n",
       "  </thead>\n",
       "  <tbody>\n",
       "    <tr>\n",
       "      <th>0</th>\n",
       "      <td>5.500000e-08</td>\n",
       "      <td>9.860000e-09</td>\n",
       "      <td>1</td>\n",
       "    </tr>\n",
       "    <tr>\n",
       "      <th>1</th>\n",
       "      <td>-2.887330e+01</td>\n",
       "      <td>-7.980000e-08</td>\n",
       "      <td>2</td>\n",
       "    </tr>\n",
       "    <tr>\n",
       "      <th>2</th>\n",
       "      <td>-7.929160e+01</td>\n",
       "      <td>-2.140330e+01</td>\n",
       "      <td>3</td>\n",
       "    </tr>\n",
       "    <tr>\n",
       "      <th>3</th>\n",
       "      <td>-1.465770e+01</td>\n",
       "      <td>-4.338960e+01</td>\n",
       "      <td>4</td>\n",
       "    </tr>\n",
       "    <tr>\n",
       "      <th>4</th>\n",
       "      <td>-6.474730e+01</td>\n",
       "      <td>2.189820e+01</td>\n",
       "      <td>5</td>\n",
       "    </tr>\n",
       "  </tbody>\n",
       "</table>\n",
       "</div>"
      ],
      "text/plain": [
       "              x             y  City\n",
       "0  5.500000e-08  9.860000e-09     1\n",
       "1 -2.887330e+01 -7.980000e-08     2\n",
       "2 -7.929160e+01 -2.140330e+01     3\n",
       "3 -1.465770e+01 -4.338960e+01     4\n",
       "4 -6.474730e+01  2.189820e+01     5"
      ]
     },
     "execution_count": 98,
     "metadata": {},
     "output_type": "execute_result"
    }
   ],
   "source": [
    "points = pd.read_excel('15-Points.xlsx')\n",
    "points.head()"
   ]
  },
  {
   "attachments": {},
   "cell_type": "markdown",
   "metadata": {},
   "source": [
    "# Genetic Algorithm"
   ]
  },
  {
   "cell_type": "code",
   "execution_count": 99,
   "metadata": {},
   "outputs": [],
   "source": [
    "class Chromosome:\n",
    "    def __init__(self, genes=None):\n",
    "        self.genes = genes\n",
    "    \n",
    "    @property\n",
    "    def genes(self):\n",
    "        return self.__genes\n",
    "    \n",
    "    @property\n",
    "    def fitness(self):\n",
    "        return self.__fitness\n",
    "    \n",
    "    @property\n",
    "    def cost(self):\n",
    "        return self.__cost\n",
    "\n",
    "    @genes.setter\n",
    "    def genes(self, genes):\n",
    "        \n",
    "        if genes:\n",
    "            self.__genes = genes\n",
    "        else:\n",
    "            self.__genes = list(np.random.permutation(15))\n",
    "            self.__genes += [self.__genes[0]]\n",
    "        \n",
    "        self.cost, self.fitness = self.__get_fitness()\n",
    "\n",
    "    @fitness.setter\n",
    "    def fitness(self, fitness):\n",
    "        self.__fitness = fitness\n",
    "\n",
    "    @cost.setter\n",
    "    def cost(self, cost):\n",
    "        self.__cost = cost\n",
    "    \n",
    "    # Problem Dependant\n",
    "    def __get_fitness(self):\n",
    "        cities_position = points.values[self.genes][:, :2]\n",
    "        cost = sum(np.linalg.norm(city1 - city2) for city1, city2 in zip(cities_position, cities_position[1:]))\n",
    "        return cost, 1/cost\n",
    "\n",
    "\n",
    "    @staticmethod\n",
    "    def crossover_utility(chromosome_1, chromosome_2):\n",
    "        # Merge two subsets with duplicates\n",
    "        crossover_point = np.random.randint(1, 15)\n",
    "        sub_1 = chromosome_1.genes[:crossover_point]\n",
    "        sub_2 = chromosome_2.genes[crossover_point:-1]\n",
    "        child_genes = sub_1 + sub_2\n",
    "            \n",
    "        # substitute duplicates with values don't exist before\n",
    "        substitutions = list(set(range(15)) - set(child_genes))\n",
    "        \n",
    "        child_genes = child_genes[:len(sub_1)] + \\\n",
    "            [substitutions.pop(0) if g in sub_1 else g for g in sub_2] + \\\n",
    "              [child_genes[0]]\n",
    "        \n",
    "        return Chromosome(genes=child_genes)\n",
    "\n",
    "\n",
    "    @staticmethod\n",
    "    def crossover(chromosome_1, chromosome_2):\n",
    "        offspring_1 = Chromosome.crossover_utility(chromosome_1, chromosome_2)\n",
    "        offspring_2 = Chromosome.crossover_utility(chromosome_2, chromosome_1)\n",
    "\n",
    "        return offspring_1, offspring_2\n",
    "    \n",
    "    def swap_mutation(self):\n",
    "        # Generate two unique random numbers in the range [1, 14]\n",
    "        indices = np.random.choice(range(1, 15), size=2, replace=False)\n",
    "\n",
    "        # Swaping\n",
    "        self.genes[indices[0]], self.genes[indices[1]] = self.genes[indices[1]], self.genes[indices[0]]\n",
    "        self.cost, self.fitness = self.__get_fitness()\n",
    "\n",
    "    def __repr__(self) -> str:\n",
    "        info = {\n",
    "                'genes': self.genes,\n",
    "                'cost': self.cost,\n",
    "                'fitness': self.fitness\n",
    "                }\n",
    "                \n",
    "        return f'{info}'"
   ]
  },
  {
   "cell_type": "code",
   "execution_count": 100,
   "metadata": {},
   "outputs": [],
   "source": [
    "class GeneticAlgorithm:\n",
    "    def __init__(self, population_size, crossover_rate, mutation_rate, elite_size, max_generations):\n",
    "        self.population_size = population_size\n",
    "        self.crossover_rate = crossover_rate\n",
    "        self.mutation_rate = mutation_rate\n",
    "        self.elite_size = elite_size\n",
    "        self.max_generations = max_generations\n",
    "        self.population = []\n",
    "        self.best_chromosome = None\n",
    "\n",
    "    def initialize_population(self):\n",
    "        self.population = [Chromosome() for _ in range(self.population_size)]\n",
    "        self.best_chromosome = max(self.population, key=lambda x: x.fitness)\n",
    "\n",
    "    def selection(self):\n",
    "        fitness_values = [chromosome.fitness for chromosome in self.population]\n",
    "        probabilities = np.array(fitness_values) / sum(fitness_values)\n",
    "        selected_indices = np.random.choice(range(self.population_size), size=self.population_size, p=probabilities)\n",
    "        selected_population = [self.population[i] for i in selected_indices]\n",
    "        elite_population = sorted(selected_population, key=lambda x: x.fitness, reverse=True)[:self.elite_size]\n",
    "        return elite_population\n",
    "\n",
    "    def crossover(self, parent_1, parent_2):\n",
    "        if np.random.rand() < self.crossover_rate:\n",
    "            offspring_1, offspring_2 = Chromosome.crossover(parent_1, parent_2)\n",
    "            return offspring_1, offspring_2\n",
    "        \n",
    "        return parent_1, parent_2\n",
    "\n",
    "    def mutation(self, chromosome):\n",
    "        if np.random.rand() < self.mutation_rate:\n",
    "            chromosome.swap_mutation()\n",
    "        \n",
    "        return chromosome\n",
    "\n",
    "    def evolve(self):\n",
    "        self.initialize_population()\n",
    "        \n",
    "        for generation in range(self.max_generations):\n",
    "            selected_population = self.selection()\n",
    "            offspring_population = []\n",
    "\n",
    "            for i in range(self.population_size - self.elite_size):\n",
    "                parent_1, parent_2 = np.random.choice(selected_population, size=2, replace=False)\n",
    "                offspring_1, offspring_2 = self.crossover(parent_1, parent_2)\n",
    "                offspring_1 = self.mutation(offspring_1)\n",
    "                offspring_2 = self.mutation(offspring_2)\n",
    "                offspring_population.extend([offspring_1, offspring_2])\n",
    "\n",
    "            offspring_population = sorted(offspring_population, key=lambda x: x.fitness, reverse=True)[:self.population_size - self.elite_size]\n",
    "            self.population = selected_population + offspring_population\n",
    "\n",
    "            # Compare between best chromosome in current generation and best chromose ever\n",
    "            generation_best_chromosome = copy.deepcopy(max(self.population, key=lambda x: x.fitness))\n",
    "            best_chromosomes = [self.best_chromosome, generation_best_chromosome]\n",
    "            self.best_chromosome = copy.deepcopy(max(best_chromosomes, key=lambda x: x.fitness))\n",
    "\n",
    "            \n",
    "            # print best chromosome in current generation\n",
    "            print(f\"Generation: {generation}, Best Chromosome: {generation_best_chromosome}\")\n",
    "\n",
    "            # visualize best chromosome in current generation\n",
    "            path = generation_best_chromosome.genes\n",
    "\n",
    "            Xs = points.values[path][:, 0]\n",
    "            Ys = points.values[path][:, 1]\n",
    "            cities_name = list(map(lambda x: 'City '+x, list((points.values[path][:, 2]).astype('int').astype('str'))))\n",
    "\n",
    "            interactive_figure = plt.plot(points.values[path][:, 0], points.values[path][:, 1], marker='o', color='b')          \n",
    "            \n",
    "            texts = []\n",
    "            for i in range(len(Xs[:-1])):\n",
    "                texts.append(plt.text(Xs[i], Ys[i]+2, f'{cities_name[i]}', ha='center'))  \n",
    "\n",
    "            plt.title(\"Generation: {}, Best Cost: {:.2f}\".format(generation, generation_best_chromosome.cost))\n",
    "            plt.pause(0.1)\n",
    "\n",
    "            for i in range(len(Xs[:-1])):\n",
    "                texts[i].remove()\n",
    "            \n",
    "            plt.setp(interactive_figure, xdata=[], ydata=[])\n",
    "\n",
    "        # print best chromosome ever\n",
    "        print(f\"Best Chromosome Ever: {self.best_chromosome}\")\n",
    "\n",
    "        # visualize best chromosome in current generation\n",
    "        path = generation_best_chromosome.genes\n",
    "\n",
    "        Xs = points.values[path][:, 0]\n",
    "        Ys = points.values[path][:, 1]\n",
    "        cities_name = list(map(lambda x: 'City '+x, list((points.values[path][:, 2]).astype('int').astype('str'))))\n",
    "\n",
    "        interactive_figure = plt.plot(points.values[path][:, 0], points.values[path][:, 1], marker='o', color='b')          \n",
    "        \n",
    "        texts = []\n",
    "        for i in range(len(Xs[:-1])):\n",
    "            texts.append(plt.text(Xs[i], Ys[i]+2, f'{cities_name[i]}', ha='center'))  \n",
    "\n",
    "        plt.title(\"Generation: {}, Best Cost: {:.2f}\".format(generation, generation_best_chromosome.cost))\n",
    "        plt.pause(2)\n",
    "        plt.close()\n",
    "                \n",
    "        return self.best_chromosome"
   ]
  },
  {
   "cell_type": "code",
   "execution_count": 101,
   "metadata": {},
   "outputs": [
    {
     "name": "stdout",
     "output_type": "stream",
     "text": [
      "Generation: 0, Best Chromosome: {'genes': [6, 2, 11, 13, 3, 0, 1, 5, 7, 9, 4, 12, 10, 14, 8, 6], 'cost': 478.9499115070315, 'fitness': 0.002087901001700715}\n",
      "Generation: 1, Best Chromosome: {'genes': [6, 2, 11, 13, 3, 0, 1, 5, 7, 9, 4, 12, 10, 14, 8, 6], 'cost': 478.9499115070315, 'fitness': 0.002087901001700715}\n",
      "Generation: 2, Best Chromosome: {'genes': [6, 2, 11, 13, 9, 0, 10, 3, 7, 5, 1, 12, 4, 14, 8, 6], 'cost': 389.13338952152935, 'fitness': 0.0025698128891729903}\n",
      "Generation: 3, Best Chromosome: {'genes': [6, 2, 11, 13, 9, 0, 10, 3, 7, 5, 1, 12, 4, 14, 8, 6], 'cost': 389.13338952152935, 'fitness': 0.0025698128891729903}\n",
      "Generation: 4, Best Chromosome: {'genes': [6, 2, 11, 13, 9, 0, 10, 3, 7, 5, 1, 12, 4, 14, 8, 6], 'cost': 389.13338952152935, 'fitness': 0.0025698128891729903}\n",
      "Generation: 5, Best Chromosome: {'genes': [6, 2, 11, 13, 9, 0, 10, 3, 7, 5, 1, 12, 8, 14, 4, 6], 'cost': 372.6325834349943, 'fitness': 0.0026836085851157186}\n",
      "Generation: 6, Best Chromosome: {'genes': [6, 2, 11, 13, 5, 0, 10, 3, 7, 9, 1, 12, 4, 14, 8, 6], 'cost': 371.20974769175336, 'fitness': 0.002693894775711504}\n",
      "Generation: 7, Best Chromosome: {'genes': [6, 2, 11, 13, 9, 5, 7, 3, 10, 0, 1, 12, 4, 14, 8, 6], 'cost': 350.3056546158938, 'fitness': 0.0028546498945227956}\n",
      "Generation: 8, Best Chromosome: {'genes': [6, 2, 11, 13, 9, 5, 7, 3, 10, 0, 1, 12, 8, 14, 4, 6], 'cost': 333.8048485293587, 'fitness': 0.002995762357574169}\n",
      "Generation: 9, Best Chromosome: {'genes': [6, 2, 11, 13, 9, 5, 7, 3, 10, 0, 1, 12, 8, 14, 4, 6], 'cost': 333.8048485293587, 'fitness': 0.002995762357574169}\n",
      "Generation: 10, Best Chromosome: {'genes': [6, 2, 11, 13, 9, 5, 7, 3, 10, 0, 1, 12, 8, 14, 4, 6], 'cost': 333.8048485293587, 'fitness': 0.002995762357574169}\n",
      "Generation: 11, Best Chromosome: {'genes': [6, 2, 11, 13, 9, 5, 7, 3, 10, 0, 12, 1, 8, 14, 4, 6], 'cost': 321.4904134792661, 'fitness': 0.003110512656280163}\n",
      "Generation: 12, Best Chromosome: {'genes': [6, 2, 11, 13, 9, 7, 5, 3, 10, 0, 1, 12, 8, 14, 4, 6], 'cost': 301.72360950696685, 'fitness': 0.003314291518764659}\n",
      "Generation: 13, Best Chromosome: {'genes': [6, 2, 11, 13, 9, 7, 5, 3, 10, 0, 12, 1, 8, 14, 4, 6], 'cost': 289.40917445687427, 'fitness': 0.0034553154780827895}\n",
      "Generation: 14, Best Chromosome: {'genes': [6, 2, 11, 13, 9, 7, 5, 3, 10, 0, 12, 1, 14, 8, 4, 6], 'cost': 284.3810904080332, 'fitness': 0.003516408206203826}\n",
      "Generation: 15, Best Chromosome: {'genes': [6, 2, 11, 13, 9, 7, 5, 3, 10, 0, 12, 1, 14, 8, 4, 6], 'cost': 284.3810904080332, 'fitness': 0.003516408206203826}\n",
      "Generation: 16, Best Chromosome: {'genes': [6, 2, 11, 13, 9, 7, 5, 3, 10, 0, 12, 1, 14, 8, 4, 6], 'cost': 284.3810904080332, 'fitness': 0.003516408206203826}\n",
      "Generation: 17, Best Chromosome: {'genes': [6, 2, 11, 13, 9, 7, 5, 3, 10, 0, 12, 1, 14, 8, 4, 6], 'cost': 284.3810904080332, 'fitness': 0.003516408206203826}\n",
      "Generation: 18, Best Chromosome: {'genes': [6, 2, 11, 13, 9, 7, 5, 3, 10, 0, 12, 1, 14, 8, 4, 6], 'cost': 284.3810904080332, 'fitness': 0.003516408206203826}\n",
      "Generation: 19, Best Chromosome: {'genes': [6, 2, 11, 13, 9, 7, 5, 3, 10, 0, 12, 1, 14, 8, 4, 6], 'cost': 284.3810904080332, 'fitness': 0.003516408206203826}\n",
      "Generation: 20, Best Chromosome: {'genes': [6, 2, 11, 13, 9, 7, 5, 3, 10, 0, 12, 1, 14, 8, 4, 6], 'cost': 284.3810904080332, 'fitness': 0.003516408206203826}\n",
      "Generation: 21, Best Chromosome: {'genes': [6, 2, 11, 13, 9, 7, 5, 3, 10, 0, 12, 1, 14, 8, 4, 6], 'cost': 284.3810904080332, 'fitness': 0.003516408206203826}\n",
      "Generation: 22, Best Chromosome: {'genes': [6, 2, 11, 13, 9, 7, 5, 3, 10, 0, 12, 1, 14, 8, 4, 6], 'cost': 284.3810904080332, 'fitness': 0.003516408206203826}\n",
      "Generation: 23, Best Chromosome: {'genes': [6, 2, 11, 13, 9, 7, 5, 3, 10, 0, 12, 1, 14, 8, 4, 6], 'cost': 284.3810904080332, 'fitness': 0.003516408206203826}\n",
      "Generation: 24, Best Chromosome: {'genes': [6, 2, 11, 13, 9, 7, 5, 3, 10, 0, 12, 1, 14, 8, 4, 6], 'cost': 284.3810904080332, 'fitness': 0.003516408206203826}\n",
      "Generation: 25, Best Chromosome: {'genes': [6, 2, 11, 13, 9, 7, 5, 3, 10, 0, 12, 1, 14, 8, 4, 6], 'cost': 284.3810904080332, 'fitness': 0.003516408206203826}\n",
      "Generation: 26, Best Chromosome: {'genes': [6, 2, 11, 13, 9, 7, 5, 3, 10, 0, 12, 1, 14, 8, 4, 6], 'cost': 284.3810904080332, 'fitness': 0.003516408206203826}\n",
      "Generation: 27, Best Chromosome: {'genes': [6, 2, 11, 13, 9, 7, 5, 3, 10, 0, 12, 1, 14, 8, 4, 6], 'cost': 284.3810904080332, 'fitness': 0.003516408206203826}\n",
      "Generation: 28, Best Chromosome: {'genes': [6, 2, 11, 13, 9, 7, 5, 3, 10, 0, 12, 1, 14, 8, 4, 6], 'cost': 284.3810904080332, 'fitness': 0.003516408206203826}\n",
      "Generation: 29, Best Chromosome: {'genes': [6, 2, 11, 13, 9, 7, 5, 3, 10, 0, 12, 1, 14, 8, 4, 6], 'cost': 284.3810904080332, 'fitness': 0.003516408206203826}\n",
      "Generation: 30, Best Chromosome: {'genes': [6, 2, 11, 13, 9, 7, 5, 3, 10, 0, 12, 1, 14, 8, 4, 6], 'cost': 284.3810904080332, 'fitness': 0.003516408206203826}\n",
      "Generation: 31, Best Chromosome: {'genes': [6, 2, 11, 13, 9, 7, 5, 3, 10, 0, 12, 1, 14, 8, 4, 6], 'cost': 284.3810904080332, 'fitness': 0.003516408206203826}\n",
      "Generation: 32, Best Chromosome: {'genes': [6, 2, 11, 13, 9, 7, 5, 3, 10, 0, 12, 1, 14, 8, 4, 6], 'cost': 284.3810904080332, 'fitness': 0.003516408206203826}\n",
      "Generation: 33, Best Chromosome: {'genes': [6, 2, 11, 13, 9, 7, 5, 3, 10, 0, 12, 1, 14, 8, 4, 6], 'cost': 284.3810904080332, 'fitness': 0.003516408206203826}\n",
      "Generation: 34, Best Chromosome: {'genes': [6, 2, 11, 13, 9, 7, 5, 3, 10, 0, 12, 1, 14, 8, 4, 6], 'cost': 284.3810904080332, 'fitness': 0.003516408206203826}\n",
      "Generation: 35, Best Chromosome: {'genes': [6, 2, 11, 13, 9, 7, 5, 3, 10, 0, 12, 1, 14, 8, 4, 6], 'cost': 284.3810904080332, 'fitness': 0.003516408206203826}\n",
      "Generation: 36, Best Chromosome: {'genes': [6, 2, 11, 13, 9, 7, 5, 3, 10, 0, 12, 1, 14, 8, 4, 6], 'cost': 284.3810904080332, 'fitness': 0.003516408206203826}\n",
      "Generation: 37, Best Chromosome: {'genes': [6, 2, 11, 13, 9, 7, 5, 3, 10, 0, 12, 1, 14, 8, 4, 6], 'cost': 284.3810904080332, 'fitness': 0.003516408206203826}\n",
      "Generation: 38, Best Chromosome: {'genes': [6, 2, 11, 13, 9, 7, 5, 3, 10, 0, 12, 1, 14, 8, 4, 6], 'cost': 284.3810904080332, 'fitness': 0.003516408206203826}\n",
      "Generation: 39, Best Chromosome: {'genes': [6, 2, 11, 13, 9, 7, 5, 3, 10, 0, 12, 1, 14, 8, 4, 6], 'cost': 284.3810904080332, 'fitness': 0.003516408206203826}\n",
      "Generation: 40, Best Chromosome: {'genes': [6, 2, 11, 13, 9, 7, 5, 3, 10, 0, 12, 1, 14, 8, 4, 6], 'cost': 284.3810904080332, 'fitness': 0.003516408206203826}\n",
      "Generation: 41, Best Chromosome: {'genes': [6, 2, 11, 13, 9, 7, 5, 3, 10, 0, 12, 1, 14, 8, 4, 6], 'cost': 284.3810904080332, 'fitness': 0.003516408206203826}\n",
      "Generation: 42, Best Chromosome: {'genes': [6, 2, 11, 13, 9, 7, 5, 3, 10, 0, 12, 1, 14, 8, 4, 6], 'cost': 284.3810904080332, 'fitness': 0.003516408206203826}\n",
      "Generation: 43, Best Chromosome: {'genes': [6, 2, 11, 13, 9, 7, 5, 3, 10, 0, 12, 1, 14, 8, 4, 6], 'cost': 284.3810904080332, 'fitness': 0.003516408206203826}\n",
      "Generation: 44, Best Chromosome: {'genes': [6, 2, 11, 13, 9, 7, 5, 3, 10, 0, 12, 1, 14, 8, 4, 6], 'cost': 284.3810904080332, 'fitness': 0.003516408206203826}\n",
      "Generation: 45, Best Chromosome: {'genes': [6, 2, 11, 13, 9, 7, 5, 3, 10, 0, 12, 1, 14, 8, 4, 6], 'cost': 284.3810904080332, 'fitness': 0.003516408206203826}\n",
      "Generation: 46, Best Chromosome: {'genes': [6, 2, 11, 13, 9, 7, 5, 3, 10, 0, 12, 1, 14, 8, 4, 6], 'cost': 284.3810904080332, 'fitness': 0.003516408206203826}\n",
      "Generation: 47, Best Chromosome: {'genes': [6, 2, 11, 13, 9, 7, 5, 3, 10, 0, 12, 1, 14, 8, 4, 6], 'cost': 284.3810904080332, 'fitness': 0.003516408206203826}\n",
      "Generation: 48, Best Chromosome: {'genes': [6, 2, 11, 13, 9, 7, 5, 3, 10, 0, 12, 1, 14, 8, 4, 6], 'cost': 284.3810904080332, 'fitness': 0.003516408206203826}\n",
      "Generation: 49, Best Chromosome: {'genes': [6, 2, 11, 13, 9, 7, 5, 3, 10, 0, 12, 1, 14, 8, 4, 6], 'cost': 284.3810904080332, 'fitness': 0.003516408206203826}\n",
      "Generation: 50, Best Chromosome: {'genes': [6, 2, 11, 13, 9, 7, 5, 3, 10, 0, 12, 1, 14, 8, 4, 6], 'cost': 284.3810904080332, 'fitness': 0.003516408206203826}\n",
      "Generation: 51, Best Chromosome: {'genes': [6, 2, 11, 13, 9, 7, 5, 3, 10, 0, 12, 1, 14, 8, 4, 6], 'cost': 284.3810904080332, 'fitness': 0.003516408206203826}\n",
      "Generation: 52, Best Chromosome: {'genes': [6, 2, 11, 13, 9, 7, 5, 3, 10, 0, 12, 1, 14, 8, 4, 6], 'cost': 284.3810904080332, 'fitness': 0.003516408206203826}\n",
      "Generation: 53, Best Chromosome: {'genes': [6, 2, 11, 13, 9, 7, 5, 3, 10, 0, 12, 1, 14, 8, 4, 6], 'cost': 284.3810904080332, 'fitness': 0.003516408206203826}\n",
      "Generation: 54, Best Chromosome: {'genes': [6, 2, 11, 13, 9, 7, 5, 3, 10, 0, 12, 1, 14, 8, 4, 6], 'cost': 284.3810904080332, 'fitness': 0.003516408206203826}\n",
      "Generation: 55, Best Chromosome: {'genes': [6, 2, 11, 13, 9, 7, 5, 3, 10, 0, 12, 1, 14, 8, 4, 6], 'cost': 284.3810904080332, 'fitness': 0.003516408206203826}\n",
      "Generation: 56, Best Chromosome: {'genes': [6, 2, 11, 13, 9, 7, 5, 3, 10, 0, 12, 1, 14, 8, 4, 6], 'cost': 284.3810904080332, 'fitness': 0.003516408206203826}\n",
      "Generation: 57, Best Chromosome: {'genes': [6, 2, 11, 13, 9, 7, 5, 3, 10, 0, 12, 1, 14, 8, 4, 6], 'cost': 284.3810904080332, 'fitness': 0.003516408206203826}\n",
      "Generation: 58, Best Chromosome: {'genes': [6, 2, 11, 13, 9, 7, 5, 3, 10, 0, 12, 1, 14, 8, 4, 6], 'cost': 284.3810904080332, 'fitness': 0.003516408206203826}\n",
      "Generation: 59, Best Chromosome: {'genes': [6, 2, 11, 13, 9, 7, 5, 3, 10, 0, 12, 1, 14, 8, 4, 6], 'cost': 284.3810904080332, 'fitness': 0.003516408206203826}\n",
      "Generation: 60, Best Chromosome: {'genes': [6, 2, 11, 13, 9, 7, 5, 3, 10, 0, 12, 1, 14, 8, 4, 6], 'cost': 284.3810904080332, 'fitness': 0.003516408206203826}\n",
      "Generation: 61, Best Chromosome: {'genes': [6, 2, 11, 13, 9, 7, 5, 3, 10, 0, 12, 1, 14, 8, 4, 6], 'cost': 284.3810904080332, 'fitness': 0.003516408206203826}\n",
      "Generation: 62, Best Chromosome: {'genes': [6, 2, 11, 13, 9, 7, 5, 3, 10, 0, 12, 1, 14, 8, 4, 6], 'cost': 284.3810904080332, 'fitness': 0.003516408206203826}\n",
      "Generation: 63, Best Chromosome: {'genes': [6, 2, 11, 13, 9, 7, 5, 3, 10, 0, 12, 1, 14, 8, 4, 6], 'cost': 284.3810904080332, 'fitness': 0.003516408206203826}\n",
      "Generation: 64, Best Chromosome: {'genes': [6, 2, 11, 13, 9, 7, 5, 3, 10, 0, 12, 1, 14, 8, 4, 6], 'cost': 284.3810904080332, 'fitness': 0.003516408206203826}\n",
      "Generation: 65, Best Chromosome: {'genes': [6, 2, 11, 13, 9, 7, 5, 3, 10, 0, 12, 1, 14, 8, 4, 6], 'cost': 284.3810904080332, 'fitness': 0.003516408206203826}\n",
      "Generation: 66, Best Chromosome: {'genes': [6, 2, 11, 13, 9, 7, 5, 3, 10, 0, 12, 1, 14, 8, 4, 6], 'cost': 284.3810904080332, 'fitness': 0.003516408206203826}\n",
      "Generation: 67, Best Chromosome: {'genes': [6, 2, 11, 13, 9, 7, 5, 3, 10, 0, 12, 1, 14, 8, 4, 6], 'cost': 284.3810904080332, 'fitness': 0.003516408206203826}\n",
      "Generation: 68, Best Chromosome: {'genes': [6, 2, 11, 13, 9, 7, 5, 3, 10, 0, 12, 1, 14, 8, 4, 6], 'cost': 284.3810904080332, 'fitness': 0.003516408206203826}\n",
      "Generation: 69, Best Chromosome: {'genes': [6, 2, 11, 13, 9, 7, 5, 3, 10, 0, 12, 1, 14, 8, 4, 6], 'cost': 284.3810904080332, 'fitness': 0.003516408206203826}\n",
      "Generation: 70, Best Chromosome: {'genes': [6, 2, 11, 13, 9, 7, 5, 3, 10, 0, 12, 1, 14, 8, 4, 6], 'cost': 284.3810904080332, 'fitness': 0.003516408206203826}\n",
      "Generation: 71, Best Chromosome: {'genes': [6, 2, 11, 13, 9, 7, 5, 3, 10, 0, 12, 1, 14, 8, 4, 6], 'cost': 284.3810904080332, 'fitness': 0.003516408206203826}\n",
      "Generation: 72, Best Chromosome: {'genes': [6, 2, 11, 13, 9, 7, 5, 3, 10, 0, 12, 1, 14, 8, 4, 6], 'cost': 284.3810904080332, 'fitness': 0.003516408206203826}\n",
      "Generation: 73, Best Chromosome: {'genes': [6, 2, 11, 13, 9, 7, 5, 3, 10, 0, 12, 1, 14, 8, 4, 6], 'cost': 284.3810904080332, 'fitness': 0.003516408206203826}\n",
      "Generation: 74, Best Chromosome: {'genes': [6, 2, 11, 13, 9, 7, 5, 3, 10, 0, 12, 1, 14, 8, 4, 6], 'cost': 284.3810904080332, 'fitness': 0.003516408206203826}\n",
      "Generation: 75, Best Chromosome: {'genes': [6, 2, 11, 13, 9, 7, 5, 3, 10, 0, 12, 1, 14, 8, 4, 6], 'cost': 284.3810904080332, 'fitness': 0.003516408206203826}\n",
      "Generation: 76, Best Chromosome: {'genes': [6, 2, 11, 13, 9, 7, 5, 3, 10, 0, 12, 1, 14, 8, 4, 6], 'cost': 284.3810904080332, 'fitness': 0.003516408206203826}\n",
      "Generation: 77, Best Chromosome: {'genes': [6, 2, 11, 13, 9, 7, 5, 3, 10, 0, 12, 1, 14, 8, 4, 6], 'cost': 284.3810904080332, 'fitness': 0.003516408206203826}\n",
      "Generation: 78, Best Chromosome: {'genes': [6, 2, 11, 13, 9, 7, 5, 3, 10, 0, 12, 1, 14, 8, 4, 6], 'cost': 284.3810904080332, 'fitness': 0.003516408206203826}\n",
      "Generation: 79, Best Chromosome: {'genes': [6, 2, 11, 13, 9, 7, 5, 3, 10, 0, 12, 1, 14, 8, 4, 6], 'cost': 284.3810904080332, 'fitness': 0.003516408206203826}\n",
      "Generation: 80, Best Chromosome: {'genes': [6, 2, 11, 13, 9, 7, 5, 3, 10, 0, 12, 1, 14, 8, 4, 6], 'cost': 284.3810904080332, 'fitness': 0.003516408206203826}\n",
      "Generation: 81, Best Chromosome: {'genes': [6, 2, 11, 13, 9, 7, 5, 3, 10, 0, 12, 1, 14, 8, 4, 6], 'cost': 284.3810904080332, 'fitness': 0.003516408206203826}\n",
      "Generation: 82, Best Chromosome: {'genes': [6, 2, 11, 13, 9, 7, 5, 3, 10, 0, 12, 1, 14, 8, 4, 6], 'cost': 284.3810904080332, 'fitness': 0.003516408206203826}\n",
      "Generation: 83, Best Chromosome: {'genes': [6, 2, 11, 13, 9, 7, 5, 3, 10, 0, 12, 1, 14, 8, 4, 6], 'cost': 284.3810904080332, 'fitness': 0.003516408206203826}\n",
      "Generation: 84, Best Chromosome: {'genes': [6, 2, 11, 13, 9, 7, 5, 3, 10, 0, 12, 1, 14, 8, 4, 6], 'cost': 284.3810904080332, 'fitness': 0.003516408206203826}\n",
      "Generation: 85, Best Chromosome: {'genes': [6, 2, 11, 13, 9, 7, 5, 3, 10, 0, 12, 1, 14, 8, 4, 6], 'cost': 284.3810904080332, 'fitness': 0.003516408206203826}\n",
      "Generation: 86, Best Chromosome: {'genes': [6, 2, 11, 13, 9, 7, 5, 3, 10, 0, 12, 1, 14, 8, 4, 6], 'cost': 284.3810904080332, 'fitness': 0.003516408206203826}\n",
      "Generation: 87, Best Chromosome: {'genes': [6, 2, 11, 13, 9, 7, 5, 3, 10, 0, 12, 1, 14, 8, 4, 6], 'cost': 284.3810904080332, 'fitness': 0.003516408206203826}\n",
      "Generation: 88, Best Chromosome: {'genes': [6, 2, 11, 13, 9, 7, 5, 3, 10, 0, 12, 1, 14, 8, 4, 6], 'cost': 284.3810904080332, 'fitness': 0.003516408206203826}\n",
      "Generation: 89, Best Chromosome: {'genes': [6, 2, 11, 13, 9, 7, 5, 3, 10, 0, 12, 1, 14, 8, 4, 6], 'cost': 284.3810904080332, 'fitness': 0.003516408206203826}\n",
      "Generation: 90, Best Chromosome: {'genes': [6, 2, 11, 13, 9, 7, 5, 3, 10, 0, 12, 1, 14, 8, 4, 6], 'cost': 284.3810904080332, 'fitness': 0.003516408206203826}\n",
      "Generation: 91, Best Chromosome: {'genes': [6, 2, 11, 13, 9, 7, 5, 3, 10, 0, 12, 1, 14, 8, 4, 6], 'cost': 284.3810904080332, 'fitness': 0.003516408206203826}\n",
      "Generation: 92, Best Chromosome: {'genes': [6, 2, 11, 13, 9, 7, 5, 3, 10, 0, 12, 1, 14, 8, 4, 6], 'cost': 284.3810904080332, 'fitness': 0.003516408206203826}\n",
      "Generation: 93, Best Chromosome: {'genes': [6, 2, 11, 13, 9, 7, 5, 3, 10, 0, 12, 1, 14, 8, 4, 6], 'cost': 284.3810904080332, 'fitness': 0.003516408206203826}\n",
      "Generation: 94, Best Chromosome: {'genes': [6, 2, 11, 13, 9, 7, 5, 3, 10, 0, 12, 1, 14, 8, 4, 6], 'cost': 284.3810904080332, 'fitness': 0.003516408206203826}\n",
      "Generation: 95, Best Chromosome: {'genes': [6, 2, 11, 13, 9, 7, 5, 3, 10, 0, 12, 1, 14, 8, 4, 6], 'cost': 284.3810904080332, 'fitness': 0.003516408206203826}\n",
      "Generation: 96, Best Chromosome: {'genes': [6, 2, 11, 13, 9, 7, 5, 3, 10, 0, 12, 1, 14, 8, 4, 6], 'cost': 284.3810904080332, 'fitness': 0.003516408206203826}\n",
      "Generation: 97, Best Chromosome: {'genes': [6, 2, 11, 13, 9, 7, 5, 3, 10, 0, 12, 1, 14, 8, 4, 6], 'cost': 284.3810904080332, 'fitness': 0.003516408206203826}\n",
      "Generation: 98, Best Chromosome: {'genes': [6, 2, 11, 13, 9, 7, 5, 3, 10, 0, 12, 1, 14, 8, 4, 6], 'cost': 284.3810904080332, 'fitness': 0.003516408206203826}\n",
      "Generation: 99, Best Chromosome: {'genes': [6, 2, 11, 13, 9, 7, 5, 3, 10, 0, 12, 1, 14, 8, 4, 6], 'cost': 284.3810904080332, 'fitness': 0.003516408206203826}\n",
      "Best Chromosome Ever: {'genes': [6, 2, 11, 13, 9, 7, 5, 3, 10, 0, 12, 1, 14, 8, 4, 6], 'cost': 284.3810904080332, 'fitness': 0.003516408206203826}\n"
     ]
    }
   ],
   "source": [
    "ga = GeneticAlgorithm(population_size=100, crossover_rate=0.8, mutation_rate=0.2, elite_size=10, max_generations=100)\n",
    "best_chromosome = ga.evolve()"
   ]
  },
  {
   "cell_type": "code",
   "execution_count": 102,
   "metadata": {},
   "outputs": [
    {
     "data": {
      "application/vnd.plotly.v1+json": {
       "config": {
        "plotlyServerURL": "https://plot.ly"
       },
       "data": [
        {
         "hovertemplate": "<b>%{hovertext}</b><br><br>x=%{x}<br>y=%{y}<br>text=%{text}<extra></extra>",
         "hovertext": [
          "City 7",
          "City 3",
          "City 12",
          "City 14",
          "City 10",
          "City 8",
          "City 6",
          "City 4",
          "City 11",
          "City 1",
          "City 13",
          "City 2",
          "City 15",
          "City 9",
          "City 5",
          "City 7"
         ],
         "legendgroup": "",
         "line": {
          "color": "#636efa",
          "dash": "solid"
         },
         "marker": {
          "symbol": "circle"
         },
         "mode": "markers+text+lines",
         "name": "",
         "orientation": "v",
         "showlegend": false,
         "text": [
          "City 7",
          "City 3",
          "City 12",
          "City 14",
          "City 10",
          "City 8",
          "City 6",
          "City 4",
          "City 11",
          "City 1",
          "City 13",
          "City 2",
          "City 15",
          "City 9",
          "City 5",
          "City 7"
         ],
         "textposition": "top center",
         "type": "scatter",
         "x": [
          -72.0785,
          -79.2916,
          -65.0866,
          -57.5687,
          -50.5859,
          -36.0366,
          -29.0585,
          -14.6577,
          -0.135819,
          5.5e-8,
          -21.4983,
          -28.8733,
          -43.07,
          -50.4808,
          -64.7473,
          -72.0785
         ],
         "xaxis": "x",
         "y": [
          0.181581,
          -21.4033,
          -36.0625,
          -43.2506,
          -21.5882,
          -21.6135,
          -43.2167,
          -43.3896,
          -28.7293,
          9.86e-9,
          7.31942,
          -7.98e-8,
          14.5548,
          7.37447,
          21.8982,
          0.181581
         ],
         "yaxis": "y"
        }
       ],
       "layout": {
        "legend": {
         "tracegroupgap": 0
        },
        "margin": {
         "t": 60
        },
        "template": {
         "data": {
          "bar": [
           {
            "error_x": {
             "color": "#2a3f5f"
            },
            "error_y": {
             "color": "#2a3f5f"
            },
            "marker": {
             "line": {
              "color": "#E5ECF6",
              "width": 0.5
             },
             "pattern": {
              "fillmode": "overlay",
              "size": 10,
              "solidity": 0.2
             }
            },
            "type": "bar"
           }
          ],
          "barpolar": [
           {
            "marker": {
             "line": {
              "color": "#E5ECF6",
              "width": 0.5
             },
             "pattern": {
              "fillmode": "overlay",
              "size": 10,
              "solidity": 0.2
             }
            },
            "type": "barpolar"
           }
          ],
          "carpet": [
           {
            "aaxis": {
             "endlinecolor": "#2a3f5f",
             "gridcolor": "white",
             "linecolor": "white",
             "minorgridcolor": "white",
             "startlinecolor": "#2a3f5f"
            },
            "baxis": {
             "endlinecolor": "#2a3f5f",
             "gridcolor": "white",
             "linecolor": "white",
             "minorgridcolor": "white",
             "startlinecolor": "#2a3f5f"
            },
            "type": "carpet"
           }
          ],
          "choropleth": [
           {
            "colorbar": {
             "outlinewidth": 0,
             "ticks": ""
            },
            "type": "choropleth"
           }
          ],
          "contour": [
           {
            "colorbar": {
             "outlinewidth": 0,
             "ticks": ""
            },
            "colorscale": [
             [
              0,
              "#0d0887"
             ],
             [
              0.1111111111111111,
              "#46039f"
             ],
             [
              0.2222222222222222,
              "#7201a8"
             ],
             [
              0.3333333333333333,
              "#9c179e"
             ],
             [
              0.4444444444444444,
              "#bd3786"
             ],
             [
              0.5555555555555556,
              "#d8576b"
             ],
             [
              0.6666666666666666,
              "#ed7953"
             ],
             [
              0.7777777777777778,
              "#fb9f3a"
             ],
             [
              0.8888888888888888,
              "#fdca26"
             ],
             [
              1,
              "#f0f921"
             ]
            ],
            "type": "contour"
           }
          ],
          "contourcarpet": [
           {
            "colorbar": {
             "outlinewidth": 0,
             "ticks": ""
            },
            "type": "contourcarpet"
           }
          ],
          "heatmap": [
           {
            "colorbar": {
             "outlinewidth": 0,
             "ticks": ""
            },
            "colorscale": [
             [
              0,
              "#0d0887"
             ],
             [
              0.1111111111111111,
              "#46039f"
             ],
             [
              0.2222222222222222,
              "#7201a8"
             ],
             [
              0.3333333333333333,
              "#9c179e"
             ],
             [
              0.4444444444444444,
              "#bd3786"
             ],
             [
              0.5555555555555556,
              "#d8576b"
             ],
             [
              0.6666666666666666,
              "#ed7953"
             ],
             [
              0.7777777777777778,
              "#fb9f3a"
             ],
             [
              0.8888888888888888,
              "#fdca26"
             ],
             [
              1,
              "#f0f921"
             ]
            ],
            "type": "heatmap"
           }
          ],
          "heatmapgl": [
           {
            "colorbar": {
             "outlinewidth": 0,
             "ticks": ""
            },
            "colorscale": [
             [
              0,
              "#0d0887"
             ],
             [
              0.1111111111111111,
              "#46039f"
             ],
             [
              0.2222222222222222,
              "#7201a8"
             ],
             [
              0.3333333333333333,
              "#9c179e"
             ],
             [
              0.4444444444444444,
              "#bd3786"
             ],
             [
              0.5555555555555556,
              "#d8576b"
             ],
             [
              0.6666666666666666,
              "#ed7953"
             ],
             [
              0.7777777777777778,
              "#fb9f3a"
             ],
             [
              0.8888888888888888,
              "#fdca26"
             ],
             [
              1,
              "#f0f921"
             ]
            ],
            "type": "heatmapgl"
           }
          ],
          "histogram": [
           {
            "marker": {
             "pattern": {
              "fillmode": "overlay",
              "size": 10,
              "solidity": 0.2
             }
            },
            "type": "histogram"
           }
          ],
          "histogram2d": [
           {
            "colorbar": {
             "outlinewidth": 0,
             "ticks": ""
            },
            "colorscale": [
             [
              0,
              "#0d0887"
             ],
             [
              0.1111111111111111,
              "#46039f"
             ],
             [
              0.2222222222222222,
              "#7201a8"
             ],
             [
              0.3333333333333333,
              "#9c179e"
             ],
             [
              0.4444444444444444,
              "#bd3786"
             ],
             [
              0.5555555555555556,
              "#d8576b"
             ],
             [
              0.6666666666666666,
              "#ed7953"
             ],
             [
              0.7777777777777778,
              "#fb9f3a"
             ],
             [
              0.8888888888888888,
              "#fdca26"
             ],
             [
              1,
              "#f0f921"
             ]
            ],
            "type": "histogram2d"
           }
          ],
          "histogram2dcontour": [
           {
            "colorbar": {
             "outlinewidth": 0,
             "ticks": ""
            },
            "colorscale": [
             [
              0,
              "#0d0887"
             ],
             [
              0.1111111111111111,
              "#46039f"
             ],
             [
              0.2222222222222222,
              "#7201a8"
             ],
             [
              0.3333333333333333,
              "#9c179e"
             ],
             [
              0.4444444444444444,
              "#bd3786"
             ],
             [
              0.5555555555555556,
              "#d8576b"
             ],
             [
              0.6666666666666666,
              "#ed7953"
             ],
             [
              0.7777777777777778,
              "#fb9f3a"
             ],
             [
              0.8888888888888888,
              "#fdca26"
             ],
             [
              1,
              "#f0f921"
             ]
            ],
            "type": "histogram2dcontour"
           }
          ],
          "mesh3d": [
           {
            "colorbar": {
             "outlinewidth": 0,
             "ticks": ""
            },
            "type": "mesh3d"
           }
          ],
          "parcoords": [
           {
            "line": {
             "colorbar": {
              "outlinewidth": 0,
              "ticks": ""
             }
            },
            "type": "parcoords"
           }
          ],
          "pie": [
           {
            "automargin": true,
            "type": "pie"
           }
          ],
          "scatter": [
           {
            "fillpattern": {
             "fillmode": "overlay",
             "size": 10,
             "solidity": 0.2
            },
            "type": "scatter"
           }
          ],
          "scatter3d": [
           {
            "line": {
             "colorbar": {
              "outlinewidth": 0,
              "ticks": ""
             }
            },
            "marker": {
             "colorbar": {
              "outlinewidth": 0,
              "ticks": ""
             }
            },
            "type": "scatter3d"
           }
          ],
          "scattercarpet": [
           {
            "marker": {
             "colorbar": {
              "outlinewidth": 0,
              "ticks": ""
             }
            },
            "type": "scattercarpet"
           }
          ],
          "scattergeo": [
           {
            "marker": {
             "colorbar": {
              "outlinewidth": 0,
              "ticks": ""
             }
            },
            "type": "scattergeo"
           }
          ],
          "scattergl": [
           {
            "marker": {
             "colorbar": {
              "outlinewidth": 0,
              "ticks": ""
             }
            },
            "type": "scattergl"
           }
          ],
          "scattermapbox": [
           {
            "marker": {
             "colorbar": {
              "outlinewidth": 0,
              "ticks": ""
             }
            },
            "type": "scattermapbox"
           }
          ],
          "scatterpolar": [
           {
            "marker": {
             "colorbar": {
              "outlinewidth": 0,
              "ticks": ""
             }
            },
            "type": "scatterpolar"
           }
          ],
          "scatterpolargl": [
           {
            "marker": {
             "colorbar": {
              "outlinewidth": 0,
              "ticks": ""
             }
            },
            "type": "scatterpolargl"
           }
          ],
          "scatterternary": [
           {
            "marker": {
             "colorbar": {
              "outlinewidth": 0,
              "ticks": ""
             }
            },
            "type": "scatterternary"
           }
          ],
          "surface": [
           {
            "colorbar": {
             "outlinewidth": 0,
             "ticks": ""
            },
            "colorscale": [
             [
              0,
              "#0d0887"
             ],
             [
              0.1111111111111111,
              "#46039f"
             ],
             [
              0.2222222222222222,
              "#7201a8"
             ],
             [
              0.3333333333333333,
              "#9c179e"
             ],
             [
              0.4444444444444444,
              "#bd3786"
             ],
             [
              0.5555555555555556,
              "#d8576b"
             ],
             [
              0.6666666666666666,
              "#ed7953"
             ],
             [
              0.7777777777777778,
              "#fb9f3a"
             ],
             [
              0.8888888888888888,
              "#fdca26"
             ],
             [
              1,
              "#f0f921"
             ]
            ],
            "type": "surface"
           }
          ],
          "table": [
           {
            "cells": {
             "fill": {
              "color": "#EBF0F8"
             },
             "line": {
              "color": "white"
             }
            },
            "header": {
             "fill": {
              "color": "#C8D4E3"
             },
             "line": {
              "color": "white"
             }
            },
            "type": "table"
           }
          ]
         },
         "layout": {
          "annotationdefaults": {
           "arrowcolor": "#2a3f5f",
           "arrowhead": 0,
           "arrowwidth": 1
          },
          "autotypenumbers": "strict",
          "coloraxis": {
           "colorbar": {
            "outlinewidth": 0,
            "ticks": ""
           }
          },
          "colorscale": {
           "diverging": [
            [
             0,
             "#8e0152"
            ],
            [
             0.1,
             "#c51b7d"
            ],
            [
             0.2,
             "#de77ae"
            ],
            [
             0.3,
             "#f1b6da"
            ],
            [
             0.4,
             "#fde0ef"
            ],
            [
             0.5,
             "#f7f7f7"
            ],
            [
             0.6,
             "#e6f5d0"
            ],
            [
             0.7,
             "#b8e186"
            ],
            [
             0.8,
             "#7fbc41"
            ],
            [
             0.9,
             "#4d9221"
            ],
            [
             1,
             "#276419"
            ]
           ],
           "sequential": [
            [
             0,
             "#0d0887"
            ],
            [
             0.1111111111111111,
             "#46039f"
            ],
            [
             0.2222222222222222,
             "#7201a8"
            ],
            [
             0.3333333333333333,
             "#9c179e"
            ],
            [
             0.4444444444444444,
             "#bd3786"
            ],
            [
             0.5555555555555556,
             "#d8576b"
            ],
            [
             0.6666666666666666,
             "#ed7953"
            ],
            [
             0.7777777777777778,
             "#fb9f3a"
            ],
            [
             0.8888888888888888,
             "#fdca26"
            ],
            [
             1,
             "#f0f921"
            ]
           ],
           "sequentialminus": [
            [
             0,
             "#0d0887"
            ],
            [
             0.1111111111111111,
             "#46039f"
            ],
            [
             0.2222222222222222,
             "#7201a8"
            ],
            [
             0.3333333333333333,
             "#9c179e"
            ],
            [
             0.4444444444444444,
             "#bd3786"
            ],
            [
             0.5555555555555556,
             "#d8576b"
            ],
            [
             0.6666666666666666,
             "#ed7953"
            ],
            [
             0.7777777777777778,
             "#fb9f3a"
            ],
            [
             0.8888888888888888,
             "#fdca26"
            ],
            [
             1,
             "#f0f921"
            ]
           ]
          },
          "colorway": [
           "#636efa",
           "#EF553B",
           "#00cc96",
           "#ab63fa",
           "#FFA15A",
           "#19d3f3",
           "#FF6692",
           "#B6E880",
           "#FF97FF",
           "#FECB52"
          ],
          "font": {
           "color": "#2a3f5f"
          },
          "geo": {
           "bgcolor": "white",
           "lakecolor": "white",
           "landcolor": "#E5ECF6",
           "showlakes": true,
           "showland": true,
           "subunitcolor": "white"
          },
          "hoverlabel": {
           "align": "left"
          },
          "hovermode": "closest",
          "mapbox": {
           "style": "light"
          },
          "paper_bgcolor": "white",
          "plot_bgcolor": "#E5ECF6",
          "polar": {
           "angularaxis": {
            "gridcolor": "white",
            "linecolor": "white",
            "ticks": ""
           },
           "bgcolor": "#E5ECF6",
           "radialaxis": {
            "gridcolor": "white",
            "linecolor": "white",
            "ticks": ""
           }
          },
          "scene": {
           "xaxis": {
            "backgroundcolor": "#E5ECF6",
            "gridcolor": "white",
            "gridwidth": 2,
            "linecolor": "white",
            "showbackground": true,
            "ticks": "",
            "zerolinecolor": "white"
           },
           "yaxis": {
            "backgroundcolor": "#E5ECF6",
            "gridcolor": "white",
            "gridwidth": 2,
            "linecolor": "white",
            "showbackground": true,
            "ticks": "",
            "zerolinecolor": "white"
           },
           "zaxis": {
            "backgroundcolor": "#E5ECF6",
            "gridcolor": "white",
            "gridwidth": 2,
            "linecolor": "white",
            "showbackground": true,
            "ticks": "",
            "zerolinecolor": "white"
           }
          },
          "shapedefaults": {
           "line": {
            "color": "#2a3f5f"
           }
          },
          "ternary": {
           "aaxis": {
            "gridcolor": "white",
            "linecolor": "white",
            "ticks": ""
           },
           "baxis": {
            "gridcolor": "white",
            "linecolor": "white",
            "ticks": ""
           },
           "bgcolor": "#E5ECF6",
           "caxis": {
            "gridcolor": "white",
            "linecolor": "white",
            "ticks": ""
           }
          },
          "title": {
           "x": 0.05
          },
          "xaxis": {
           "automargin": true,
           "gridcolor": "white",
           "linecolor": "white",
           "ticks": "",
           "title": {
            "standoff": 15
           },
           "zerolinecolor": "white",
           "zerolinewidth": 2
          },
          "yaxis": {
           "automargin": true,
           "gridcolor": "white",
           "linecolor": "white",
           "ticks": "",
           "title": {
            "standoff": 15
           },
           "zerolinecolor": "white",
           "zerolinewidth": 2
          }
         }
        },
        "title": {
         "text": "Travel Salesman"
        },
        "xaxis": {
         "anchor": "y",
         "domain": [
          0,
          1
         ],
         "title": {
          "text": "x"
         }
        },
        "yaxis": {
         "anchor": "x",
         "domain": [
          0,
          1
         ],
         "title": {
          "text": "y"
         }
        }
       }
      }
     },
     "metadata": {},
     "output_type": "display_data"
    }
   ],
   "source": [
    "path = best_chromosome.genes\n",
    "\n",
    "cities_name = list(map(lambda x: 'City '+x, list((points.values[path][:, 2]).astype('int').astype('str'))))\n",
    "fig = px.line(x=points.values[path][:, 0], y=points.values[path][:, 1], hover_name=cities_name, markers=True, text=cities_name)\n",
    "fig.update_traces(textposition='top center')\n",
    "\n",
    "# Set the title of the chart\n",
    "fig.update_layout(title='Travel Salesman')\n",
    "\n",
    "# Show the chart\n",
    "fig.show()"
   ]
  }
 ],
 "metadata": {
  "kernelspec": {
   "display_name": "Python 3",
   "language": "python",
   "name": "python3"
  },
  "language_info": {
   "codemirror_mode": {
    "name": "ipython",
    "version": 3
   },
   "file_extension": ".py",
   "mimetype": "text/x-python",
   "name": "python",
   "nbconvert_exporter": "python",
   "pygments_lexer": "ipython3",
   "version": "3.10.6"
  },
  "orig_nbformat": 4
 },
 "nbformat": 4,
 "nbformat_minor": 2
}
