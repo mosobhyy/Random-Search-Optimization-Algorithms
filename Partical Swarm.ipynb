{
 "cells": [
  {
   "attachments": {},
   "cell_type": "markdown",
   "id": "1e5fe3c0",
   "metadata": {},
   "source": [
    "# Import Libraries"
   ]
  },
  {
   "cell_type": "code",
   "execution_count": 1,
   "id": "95306abe",
   "metadata": {},
   "outputs": [],
   "source": [
    "# QT backend\n",
    "%matplotlib qt\n",
    "\n",
    "import numpy as np \n",
    "import matplotlib.pyplot as plt\n",
    "\n",
    "# Toggle fullscreen mode for all plots\n",
    "plt.rcParams['figure.figsize'] = [12, 8]"
   ]
  },
  {
   "attachments": {},
   "cell_type": "markdown",
   "id": "72f6a580",
   "metadata": {},
   "source": [
    "# Generate Data"
   ]
  },
  {
   "cell_type": "code",
   "execution_count": 2,
   "id": "e75c5b95",
   "metadata": {},
   "outputs": [],
   "source": [
    "x = np.linspace(-5, 5, 1000).reshape(-1, 1)\n",
    "y = -2*x+3+np.random.rand(x.shape[0], x.shape[1])*3"
   ]
  },
  {
   "cell_type": "code",
   "execution_count": 3,
   "id": "53eac7ef",
   "metadata": {},
   "outputs": [
    {
     "data": {
      "text/plain": [
       "<matplotlib.collections.PathCollection at 0x7ff3fe679ba0>"
      ]
     },
     "execution_count": 3,
     "metadata": {},
     "output_type": "execute_result"
    }
   ],
   "source": [
    "plt.scatter(x, y)"
   ]
  },
  {
   "attachments": {},
   "cell_type": "markdown",
   "id": "7a2b7fce",
   "metadata": {},
   "source": [
    "# Proplem Def"
   ]
  },
  {
   "cell_type": "code",
   "execution_count": 44,
   "id": "6cedcb26",
   "metadata": {},
   "outputs": [],
   "source": [
    "# Cost function \n",
    "# J= lambda x: (x[0]-2)**2 + (x[1]-4)**2\n",
    "\n",
    "J= lambda c: np.sqrt( np.sum((c[0]*x+c[1]-y)**2)/len(y) )\n",
    "\n",
    "# Problem varibles \n",
    "n_Var= 2\n",
    "Var_Size=np.array([n_Var,1])\n",
    "\n",
    "Var_Min=[ -5, -10]\n",
    "Var_Max=[ 5, 10]\n",
    "bounds=np.column_stack((Var_Min,Var_Max))"
   ]
  },
  {
   "attachments": {},
   "cell_type": "markdown",
   "id": "142d7dc0",
   "metadata": {},
   "source": [
    "# Particle Swarm Optimization Parameters "
   ]
  },
  {
   "cell_type": "code",
   "execution_count": 45,
   "id": "7c903aaa",
   "metadata": {},
   "outputs": [],
   "source": [
    "w= 1\n",
    "c1= 2\n",
    "c2= 2\n",
    "\n",
    "# number of iteration\n",
    "Max_iter= 20\n",
    "\n",
    "#number of iteration\n",
    "nPop= 50\n",
    "damp=0.9"
   ]
  },
  {
   "cell_type": "code",
   "execution_count": 46,
   "id": "c17c0e4b",
   "metadata": {},
   "outputs": [],
   "source": [
    "class Partical:\n",
    "    def __init__(self,bounds,Var_Size,J):\n",
    "       \n",
    "        self.position= np.random.uniform(bounds[:,0],bounds[:,1]).reshape(Var_Size)\n",
    "        self.velocity=np.zeros(Var_Size)\n",
    "        self.cost=J(self.position)\n",
    "        self.best_cost=self.cost\n",
    "        self.best_position=self.position.copy()\n",
    "\n",
    "class GlobalPartical:\n",
    "    def __init__(self):\n",
    "        self.position=[]\n",
    "        self.cost=np.inf\n",
    "        \n",
    "    def __repr__(self):\n",
    "        return f\"(position={self.position}, cost={self.cost})\"\n"
   ]
  },
  {
   "attachments": {},
   "cell_type": "markdown",
   "id": "4e4c90da",
   "metadata": {},
   "source": [
    "# Initialization "
   ]
  },
  {
   "cell_type": "code",
   "execution_count": 47,
   "id": "cd743b9e",
   "metadata": {},
   "outputs": [],
   "source": [
    "GlobalBest=GlobalPartical()\n",
    "partical=[None]*nPop\n",
    "for i in range(nPop):\n",
    "    partical[i]=Partical(bounds,Var_Size,J)\n",
    "    if partical[i].cost < GlobalBest.cost:\n",
    "        GlobalBest.position = partical[i].position.copy()\n",
    "        GlobalBest.cost = partical[i].cost \n",
    "        "
   ]
  },
  {
   "cell_type": "code",
   "execution_count": 48,
   "id": "57e12ea0",
   "metadata": {
    "scrolled": true
   },
   "outputs": [
    {
     "name": "stdout",
     "output_type": "stream",
     "text": [
      "in iteration: 0,\n",
      "GlobalBest.cost:0.9292603412992719,Globalpos:[[-1.96966604]\n",
      " [ 4.27218294]]\n",
      "in iteration: 1,\n",
      "GlobalBest.cost:0.9292603412992719,Globalpos:[[-1.96966604]\n",
      " [ 4.27218294]]\n",
      "in iteration: 2,\n",
      "GlobalBest.cost:0.8970354660873645,Globalpos:[[-2.04912578]\n",
      " [ 4.44461166]]\n",
      "in iteration: 3,\n",
      "GlobalBest.cost:0.8970354660873645,Globalpos:[[-2.04912578]\n",
      " [ 4.44461166]]\n",
      "in iteration: 4,\n",
      "GlobalBest.cost:0.8970354660873645,Globalpos:[[-2.04912578]\n",
      " [ 4.44461166]]\n",
      "in iteration: 5,\n",
      "GlobalBest.cost:0.8970354660873645,Globalpos:[[-2.04912578]\n",
      " [ 4.44461166]]\n",
      "in iteration: 6,\n",
      "GlobalBest.cost:0.8970354660873645,Globalpos:[[-2.04912578]\n",
      " [ 4.44461166]]\n",
      "in iteration: 7,\n",
      "GlobalBest.cost:0.8936613082801335,Globalpos:[[-2.03225177]\n",
      " [ 4.44162194]]\n",
      "in iteration: 8,\n",
      "GlobalBest.cost:0.8936613082801335,Globalpos:[[-2.03225177]\n",
      " [ 4.44162194]]\n",
      "in iteration: 9,\n",
      "GlobalBest.cost:0.8925118694596016,Globalpos:[[-2.03423975]\n",
      " [ 4.47700036]]\n",
      "in iteration: 10,\n",
      "GlobalBest.cost:0.89230819055762,Globalpos:[[-2.01119752]\n",
      " [ 4.45372224]]\n",
      "in iteration: 11,\n",
      "GlobalBest.cost:0.8911170558724031,Globalpos:[[-2.01689648]\n",
      " [ 4.49357091]]\n",
      "in iteration: 12,\n",
      "GlobalBest.cost:0.8911170558724031,Globalpos:[[-2.01689648]\n",
      " [ 4.49357091]]\n",
      "in iteration: 13,\n",
      "GlobalBest.cost:0.8911170558724031,Globalpos:[[-2.01689648]\n",
      " [ 4.49357091]]\n",
      "in iteration: 14,\n",
      "GlobalBest.cost:0.8911170558724031,Globalpos:[[-2.01689648]\n",
      " [ 4.49357091]]\n",
      "in iteration: 15,\n",
      "GlobalBest.cost:0.8911170558724031,Globalpos:[[-2.01689648]\n",
      " [ 4.49357091]]\n",
      "in iteration: 16,\n",
      "GlobalBest.cost:0.8911165177217637,Globalpos:[[-2.01691764]\n",
      " [ 4.49371888]]\n",
      "in iteration: 17,\n",
      "GlobalBest.cost:0.8911123602280488,Globalpos:[[-2.01792699]\n",
      " [ 4.4926721 ]]\n",
      "in iteration: 18,\n",
      "GlobalBest.cost:0.8911091190046151,Globalpos:[[-2.01862781]\n",
      " [ 4.49575989]]\n",
      "in iteration: 19,\n",
      "GlobalBest.cost:0.8911088010615577,Globalpos:[[-2.0177079 ]\n",
      " [ 4.49553737]]\n"
     ]
    }
   ],
   "source": [
    "for it in range(Max_iter):\n",
    "    for i in range(nPop):\n",
    "        partical[i].velocity = (w*partical[i].velocity) + (c1 * np.random.rand() * (partical[i].best_position - partical[i].position)) + (c2 * np.random.rand() * (GlobalBest.position - partical[i].position))\n",
    "        \n",
    "        partical[i].position=partical[i].position+partical[i].velocity \n",
    "\n",
    "        partical[i].cost=J(partical[i].position)\n",
    "        if partical[i].cost< partical[i].best_cost:\n",
    "            partical[i].best_cost = partical[i].cost\n",
    "            partical[i].best_position = partical[i].position.copy()\n",
    "            if partical[i].cost< GlobalBest.cost:\n",
    "                GlobalBest.position=partical[i].position.copy()\n",
    "                GlobalBest.cost=partical[i].cost\n",
    "                \n",
    "                # Visualization\n",
    "                plt.plot(x, y, 'o', color='C0')\n",
    "                y_pred = GlobalBest.position[0] * x + GlobalBest.position[1]\n",
    "                interactive_figure = plt.plot(x, y_pred, 'o', color='C1')\n",
    "                plt.title(\"Iteration: {}, Global Cost: {:.2f}\".format(it, GlobalBest.cost))\n",
    "                plt.pause(0.5)\n",
    "                plt.setp(interactive_figure, xdata=[], ydata=[])\n",
    "    w=w*damp\n",
    "    print(f'in iteration: {it},\\nGlobalBest.cost:{GlobalBest.cost},Globalpos:{GlobalBest.position}')\n",
    "\n",
    "\n",
    "plt.plot(x, y, 'o', color='C0')\n",
    "y_pred = GlobalBest.position[0] * x + GlobalBest.position[1]\n",
    "interactive_figure = plt.plot(x, y_pred, 'o', color='C1')\n",
    "plt.pause(1)\n",
    "plt.close()"
   ]
  }
 ],
 "metadata": {
  "kernelspec": {
   "display_name": "Python 3",
   "language": "python",
   "name": "python3"
  },
  "language_info": {
   "codemirror_mode": {
    "name": "ipython",
    "version": 3
   },
   "file_extension": ".py",
   "mimetype": "text/x-python",
   "name": "python",
   "nbconvert_exporter": "python",
   "pygments_lexer": "ipython3",
   "version": "3.10.6"
  }
 },
 "nbformat": 4,
 "nbformat_minor": 5
}
